{
 "cells": [
  {
   "cell_type": "code",
   "execution_count": 1,
   "metadata": {
    "collapsed": true
   },
   "outputs": [],
   "source": [
    "import numpy as np\n",
    "from PIL import Image\n",
    "import cPickle as pickle\n",
    "import matplotlib.pyplot as plt\n",
    "%matplotlib inline\n",
    "import scipy.io as sio\n",
    "datapath = \"../data/\""
   ]
  },
  {
   "cell_type": "code",
   "execution_count": 7,
   "metadata": {
    "collapsed": false
   },
   "outputs": [],
   "source": [
    "#mat = sio.loadmat(datapath + \"texture1_glcmdx+1dy0.mat\")\n",
    "#mat = sio.loadmat(datapath + \"mosaic1_train.mat\")\n",
    "mat = sio.loadmat(datapath + \"training_mask.mat\")"
   ]
  },
  {
   "cell_type": "code",
   "execution_count": 3,
   "metadata": {
    "collapsed": false
   },
   "outputs": [
    {
     "name": "stdout",
     "output_type": "stream",
     "text": [
      "['__version__', '__header__', 'mosaicim', '__globals__']\n",
      "uint8\n",
      "(512, 512)\n",
      "255\n",
      "[[ 48  76 149 ..., 211 117  75]\n",
      " [ 49  28  55 ..., 200  88  21]\n",
      " [ 76  35  29 ..., 200 109  21]\n",
      " ..., \n",
      " [ 86 144 160 ...,  60  44  53]\n",
      " [110 179 187 ...,  44  55  43]\n",
      " [110 144 190 ...,  21  43  43]]\n"
     ]
    }
   ],
   "source": [
    "print mat.keys()\n",
    "print mat[\"mosaicim\"].dtype\n",
    "print mat[\"mosaicim\"].shape\n",
    "print mat[\"mosaicim\"].max()\n",
    "print mat[\"mosaicim\"]"
   ]
  },
  {
   "cell_type": "code",
   "execution_count": 10,
   "metadata": {
    "collapsed": true
   },
   "outputs": [],
   "source": [
    "outfile = open(datapath + \"training_mask.p\", 'wb')\n",
    "pickle.dump(mat[\"mosaicim\"], outfile)\n",
    "outfile.close()"
   ]
  }
 ],
 "metadata": {
  "kernelspec": {
   "display_name": "Python 2",
   "language": "python",
   "name": "python2"
  },
  "language_info": {
   "codemirror_mode": {
    "name": "ipython",
    "version": 2
   },
   "file_extension": ".py",
   "mimetype": "text/x-python",
   "name": "python",
   "nbconvert_exporter": "python",
   "pygments_lexer": "ipython2",
   "version": "2.7.10"
  }
 },
 "nbformat": 4,
 "nbformat_minor": 0
}
